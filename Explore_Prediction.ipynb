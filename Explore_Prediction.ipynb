{
 "cells": [
  {
   "cell_type": "code",
   "execution_count": 18,
   "metadata": {},
   "outputs": [
    {
     "data": {
      "application/vnd.jupyter.widget-view+json": {
       "model_id": "47a8b92fa28e4750a2a24dd38d839713",
       "version_major": 2,
       "version_minor": 0
      },
      "text/plain": [
       "interactive(children=(IntText(value=0, description='Select Layer'), Output()), _dom_classes=('widget-interact'…"
      ]
     },
     "metadata": {},
     "output_type": "display_data"
    }
   ],
   "source": [
    "import numpy as np\n",
    "import nibabel as nib\n",
    "import itk\n",
    "import itkwidgets\n",
    "from IPython.display import display, HTML\n",
    "from ipywidgets import interact, interactive, IntSlider, ToggleButtons,IntText,link,VBox\n",
    "import matplotlib.pyplot as plt\n",
    "import seaborn as sns\n",
    "import cv2\n",
    "from keras.utils import to_categorical\n",
    "import torch \n",
    "from torch import optim,nn \n",
    "import torch.nn.functional as F\n",
    "%matplotlib inline\n",
    "\n",
    "\n",
    "image = nib.load(\"Task01_BrainTumour/imagesTr/BRATS_001.nii.gz\")\n",
    "image_data = image.get_fdata()\n",
    "label = nib.load(\"Task01_BrainTumour/labelsTr/BRATS_001.nii.gz\")\n",
    "label_array = label.get_fdata()\n",
    "\n",
    "\n",
    "def explore_up(layer):\n",
    "    plt.figure(figsize=(10, 8))\n",
    "    channel = 0\n",
    "    plt.imshow(np.fliplr(np.rot90(image_data[:, :, layer, channel])), cmap='gray');\n",
    "    plt.title('Transverse', fontsize=20)\n",
    "    plt.axis('off')\n",
    "    return layer\n",
    "\n",
    "\n",
    "select_layer = IntSlider(min=0, max=154, description='Select Layer')\n",
    "\n",
    "interactive(explore_up,layer=(select_layer))"
   ]
  },
  {
   "cell_type": "code",
   "execution_count": 14,
   "metadata": {},
   "outputs": [
    {
     "data": {
      "application/vnd.jupyter.widget-view+json": {
       "model_id": "ef94a90f71e84661ac142afb1be4f65f",
       "version_major": 2,
       "version_minor": 0
      },
      "text/plain": [
       "interactive(children=(IntSlider(value=0, description='Select Layer', max=239), Output()), _dom_classes=('widge…"
      ]
     },
     "metadata": {},
     "output_type": "display_data"
    }
   ],
   "source": [
    "def explore_frontal(layer):\n",
    "    plt.figure(figsize=(10, 8))\n",
    "    channel = 0\n",
    "    plt.imshow(np.fliplr(np.rot90(image_data[:,layer,:, channel])), cmap='gray');\n",
    "    plt.title('Coronal', fontsize=20)\n",
    "    plt.axis('off')\n",
    "    return layer\n",
    "\n",
    "select_layer = IntSlider(min=0, max=239, description='Select Layer')\n",
    "interactive(explore_frontal,layer=select_layer)"
   ]
  },
  {
   "cell_type": "code",
   "execution_count": 3,
   "metadata": {},
   "outputs": [
    {
     "data": {
      "application/vnd.jupyter.widget-view+json": {
       "model_id": "8809cf656ca44789a653b20f516cf2da",
       "version_major": 2,
       "version_minor": 0
      },
      "text/plain": [
       "interactive(children=(IntSlider(value=0, description='Select Layer', max=239), Output()), _dom_classes=('widge…"
      ]
     },
     "metadata": {},
     "output_type": "display_data"
    }
   ],
   "source": [
    "def explore_side(layer):\n",
    "    plt.figure(figsize=(10, 8))\n",
    "    channel = 0\n",
    "    plt.imshow(np.fliplr(np.rot90(image_data[layer,:,:, channel])), cmap='gray');\n",
    "    plt.title('Sagittal', fontsize=20)\n",
    "    plt.axis('off')\n",
    "    return layer\n",
    "\n",
    "select_layer = IntSlider(min=0, max=239, description='Select Layer')\n",
    "interactive(explore_side,layer=select_layer)"
   ]
  },
  {
   "cell_type": "code",
   "execution_count": 4,
   "metadata": {},
   "outputs": [
    {
     "data": {
      "application/vnd.jupyter.widget-view+json": {
       "model_id": "06ad1f366acf4dceab32c57481b41409",
       "version_major": 2,
       "version_minor": 0
      },
      "text/plain": [
       "interactive(children=(IntSlider(value=0, continuous_update=False, description='Select Layer', max=154), Output…"
      ]
     },
     "metadata": {},
     "output_type": "display_data"
    }
   ],
   "source": [
    "def get_labeled_image(image, label,is_categorical = False):\n",
    "    if not is_categorical:\n",
    "        label = to_categorical(label, num_classes = 4).astype(np.uint8)\n",
    "        \n",
    "    image = cv2.normalize(image[:,:,:,0], None, alpha = 0,beta = 255, norm_type = cv2.NORM_MINMAX,dtype = cv2.CV_32F)\n",
    "    \n",
    "    labeled_image = np.zeros_like(label[:,:,:,1:])\n",
    "    labeled_image[:,:,:,0] = image * (label[:,:,:,0])\n",
    "    labeled_image[:,:,:,1] = image * (label[:,:,:,0])\n",
    "    labeled_image[:,:,:,2] = image * (label[:,:,:,0])\n",
    "    \n",
    "    labeled_image = labeled_image + label[:,:,:,1:]*255\n",
    "    \n",
    "    return labeled_image\n",
    "\n",
    "label_array1 = get_labeled_image(image_data,label_array)\n",
    "\n",
    "def explore_label(layer):\n",
    "    plt.figure(figsize=(10, 8))\n",
    "    plt.imshow(np.fliplr(np.rot90(label_array1[:, :, layer,:])), cmap='gray');\n",
    "    plt.title('Ground Truth', fontsize=20)\n",
    "    plt.axis('off')\n",
    "    return layer\n",
    "\n",
    "# Run the ipywidgets interact() function to explore the data\n",
    "\n",
    "select_layer = IntSlider(min=0, max=154, description='Select Layer', continuous_update=False)\n",
    "interactive(explore_label,layer=select_layer)"
   ]
  },
  {
   "cell_type": "code",
   "execution_count": 5,
   "metadata": {},
   "outputs": [
    {
     "data": {
      "application/vnd.jupyter.widget-view+json": {
       "model_id": "81c5b86bedb846689a1bfb72ace1d338",
       "version_major": 2,
       "version_minor": 0
      },
      "text/plain": [
       "interactive(children=(IntSlider(value=0, continuous_update=False, description='Select Layer', max=239), Output…"
      ]
     },
     "metadata": {},
     "output_type": "display_data"
    }
   ],
   "source": [
    "label_array2 = get_labeled_image(image_data,label_array)\n",
    "def explore_label(layer):\n",
    "    plt.figure(figsize=(10, 8))\n",
    "    plt.imshow(np.fliplr(np.rot90(label_array2[:,layer,:,:])), cmap='gray');\n",
    "    plt.title('Ground Truth', fontsize=20)\n",
    "    plt.axis('off')\n",
    "    return layer\n",
    "\n",
    "# Run the ipywidgets interact() function to explore the data\n",
    "\n",
    "select_layer = IntSlider(min=0, max=239, description='Select Layer', continuous_update=False)\n",
    "interactive(explore_label,layer=select_layer)"
   ]
  },
  {
   "cell_type": "code",
   "execution_count": 6,
   "metadata": {},
   "outputs": [
    {
     "data": {
      "application/vnd.jupyter.widget-view+json": {
       "model_id": "2a911a98696e48e68cd2bb23554f6a61",
       "version_major": 2,
       "version_minor": 0
      },
      "text/plain": [
       "interactive(children=(IntSlider(value=0, continuous_update=False, description='Select Layer', max=239), Output…"
      ]
     },
     "metadata": {},
     "output_type": "display_data"
    }
   ],
   "source": [
    "label_array3 = get_labeled_image(image_data,label_array)\n",
    "def explore_label(layer):\n",
    "    plt.figure(figsize=(10, 8))\n",
    "    plt.imshow(np.fliplr(np.rot90(label_array3[layer,:,:,:])), cmap='gray');\n",
    "    plt.title('Ground Truth', fontsize=20)\n",
    "    plt.axis('off')\n",
    "    return layer\n",
    "\n",
    "# Run the ipywidgets interact() function to explore the data\n",
    "\n",
    "select_layer = IntSlider(min=0, max=239, description='Select Layer', continuous_update=False)\n",
    "interactive(explore_label,layer=select_layer)"
   ]
  },
  {
   "cell_type": "code",
   "execution_count": 7,
   "metadata": {},
   "outputs": [
    {
     "data": {
      "application/vnd.jupyter.widget-view+json": {
       "model_id": "4cf6da254afa4b44bf2990fcb7ebd5fe",
       "version_major": 2,
       "version_minor": 0
      },
      "text/plain": [
       "interactive(children=(IntSlider(value=0, description='Select Layer', max=154), Output()), _dom_classes=('widge…"
      ]
     },
     "metadata": {},
     "output_type": "display_data"
    }
   ],
   "source": [
    "y_pred = torch.load('y_pred.pt')\n",
    "\n",
    "labeled_image = get_labeled_image(image_data,y_pred,is_categorical = True)\n",
    "\n",
    "def explore_label(layer):\n",
    "    plt.figure(figsize=(10, 8))\n",
    "    plt.imshow(np.fliplr(np.rot90(labeled_image[:, :, layer,:])), cmap='gray');\n",
    "    plt.title('Prediction', fontsize=20)\n",
    "    plt.axis('off')\n",
    "    return layer\n",
    "\n",
    "# Run the ipywidgets interact() function to explore the data\n",
    "\n",
    "select_layer = IntSlider(min=0, max=154, description='Select Layer', continuous_update=True)\n",
    "interactive(explore_label,layer=select_layer)"
   ]
  },
  {
   "cell_type": "code",
   "execution_count": 8,
   "metadata": {},
   "outputs": [
    {
     "data": {
      "application/vnd.jupyter.widget-view+json": {
       "model_id": "49ed52f1ae8b404a9a5692d4e96e1368",
       "version_major": 2,
       "version_minor": 0
      },
      "text/plain": [
       "interactive(children=(IntSlider(value=0, description='Select Layer', max=239), Output()), _dom_classes=('widge…"
      ]
     },
     "metadata": {},
     "output_type": "display_data"
    }
   ],
   "source": [
    "def explore_label(layer):\n",
    "    plt.figure(figsize=(10, 8))\n",
    "    plt.imshow(np.fliplr(np.rot90(labeled_image[:,layer,:,:])), cmap='gray');\n",
    "    plt.title('Prediction', fontsize=20)\n",
    "    plt.axis('off')\n",
    "    return layer\n",
    "\n",
    "# Run the ipywidgets interact() function to explore the data\n",
    "\n",
    "select_layer = IntSlider(min=0, max=239, description='Select Layer', continuous_update=True)\n",
    "interactive(explore_label,layer=select_layer)"
   ]
  },
  {
   "cell_type": "code",
   "execution_count": 9,
   "metadata": {},
   "outputs": [
    {
     "data": {
      "application/vnd.jupyter.widget-view+json": {
       "model_id": "9eb64acf26e447b1a21c049105937fcc",
       "version_major": 2,
       "version_minor": 0
      },
      "text/plain": [
       "interactive(children=(IntSlider(value=0, description='Select Layer', max=239), Output()), _dom_classes=('widge…"
      ]
     },
     "metadata": {},
     "output_type": "display_data"
    }
   ],
   "source": [
    "def explore_label(layer):\n",
    "    plt.figure(figsize=(10, 8))\n",
    "    plt.imshow(np.fliplr(np.rot90(labeled_image[layer,:,:,:])), cmap='gray');\n",
    "    plt.title('Prediction', fontsize=20)\n",
    "    plt.axis('off')\n",
    "    return layer\n",
    "\n",
    "# Run the ipywidgets interact() function to explore the data\n",
    "\n",
    "select_layer = IntSlider(min=0, max=239, description='Select Layer', continuous_update=True)\n",
    "interactive(explore_label,layer=select_layer)"
   ]
  }
 ],
 "metadata": {
  "kernelspec": {
   "display_name": "Python 3.8.2 64-bit",
   "language": "python",
   "name": "python38264bitd7e1741f5a374a578bbcddb907a293a7"
  },
  "language_info": {
   "codemirror_mode": {
    "name": "ipython",
    "version": 3
   },
   "file_extension": ".py",
   "mimetype": "text/x-python",
   "name": "python",
   "nbconvert_exporter": "python",
   "pygments_lexer": "ipython3",
   "version": "3.8.2"
  }
 },
 "nbformat": 4,
 "nbformat_minor": 4
}
