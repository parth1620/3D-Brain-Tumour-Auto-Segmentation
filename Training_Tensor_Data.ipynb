{
  "nbformat": 4,
  "nbformat_minor": 0,
  "metadata": {
    "language_info": {
      "codemirror_mode": {
        "name": "ipython",
        "version": 3
      },
      "file_extension": ".py",
      "mimetype": "text/x-python",
      "name": "python",
      "nbconvert_exporter": "python",
      "pygments_lexer": "ipython3",
      "version": "3.8.2-final"
    },
    "orig_nbformat": 2,
    "kernelspec": {
      "name": "python38264bit2192a74fbe504b1abaaa4085d0704b4c",
      "display_name": "Python 3.8.2 64-bit"
    },
    "colab": {
      "name": "Training.ipynb",
      "provenance": []
    },
    "accelerator": "GPU"
  },
  "cells": [
    {
      "cell_type": "code",
      "metadata": {
        "id": "d8MDQquhtekY"
      },
      "source": [
        "import torch \n",
        "import numpy as np\n",
        "from torch import optim,nn \n",
        "import torch.nn.functional as F\n",
        "from torchvision import datasets,transforms as T\n",
        "from torch.utils.data import DataLoader,TensorDataset\n",
        "from torch.utils.data.sampler import SubsetRandomSampler \n",
        "import matplotlib.pyplot as plt"
      ],
      "execution_count": null,
      "outputs": []
    },
    {
      "cell_type": "code",
      "metadata": {
        "id": "_KtNbb6utekc"
      },
      "source": [
        "X = torch.load('/content/drive/My Drive/data/X.pt')\n",
        "y = torch.load('/content/drive/My Drive/data/y.pt')"
      ],
      "execution_count": null,
      "outputs": []
    },
    {
      "cell_type": "code",
      "metadata": {
        "id": "k6rHKe1Ltekf"
      },
      "source": [
        "train_dataset = TensorDataset(X,y)"
      ],
      "execution_count": null,
      "outputs": []
    },
    {
      "cell_type": "code",
      "metadata": {
        "id": "FRa0w8KOteki"
      },
      "source": [
        "valid_size = 0.3\n",
        "\n",
        "num_train = len(train_dataset)\n",
        "indices = list(range(num_train))\n",
        "np.random.shuffle(indices)\n",
        "split = int(np.floor(valid_size * num_train))\n",
        "train_idx, valid_idx = indices[split:], indices[:split]"
      ],
      "execution_count": null,
      "outputs": []
    },
    {
      "cell_type": "code",
      "metadata": {
        "tags": [],
        "id": "BXmRm-Sktekl",
        "outputId": "2eb966f9-c9ec-42bb-ee97-20111d14fc71",
        "colab": {
          "base_uri": "https://localhost:8080/",
          "height": 54
        }
      },
      "source": [
        "train_sampler = SubsetRandomSampler(train_idx)\n",
        "valid_sampler = SubsetRandomSampler(valid_idx)\n",
        "\n",
        "trainloader = DataLoader(train_dataset,batch_size = 5,sampler=train_sampler)\n",
        "validloader = DataLoader(train_dataset,batch_size = 5,sampler=valid_sampler)\n",
        "print(len(trainloader.sampler))\n",
        "print(len(validloader.sampler))"
      ],
      "execution_count": null,
      "outputs": [
        {
          "output_type": "stream",
          "text": [
            "86\n",
            "36\n"
          ],
          "name": "stdout"
        }
      ]
    },
    {
      "cell_type": "code",
      "metadata": {
        "id": "evFlXJLcteko"
      },
      "source": [
        "class Unet3D(nn.Module):\n",
        "\n",
        "    def __init__(self):\n",
        "        super(Unet3D,self).__init__()\n",
        "\n",
        "        self.conv1 = nn.Conv3d(in_channels=4,out_channels=32,kernel_size= (3,3,3),stride=(1,1,1),padding=(1,1,1))\n",
        "        self.conv2 = nn.Conv3d(in_channels=32, out_channels=64,kernel_size =(3,3,3),stride=(1,1,1),padding=(1,1,1))\n",
        "        self.maxpool1 = nn.MaxPool3d(kernel_size = (2,2,2))\n",
        "        self.conv3 = nn.Conv3d(in_channels=64,out_channels=64,kernel_size=(3,3,3),stride=(1,1,1),padding=(1,1,1))\n",
        "        self.conv4 = nn.Conv3d(in_channels=64,out_channels=128,kernel_size=(3,3,3),stride=(1,1,1),padding=(1,1,1))\n",
        "        self.upsample1 = nn.Upsample(scale_factor = (2,2,2))\n",
        "        self.conv5 = nn.Conv3d(in_channels=192,out_channels=64,kernel_size=(3,3,3),stride=(1,1,1),padding=(1,1,1))\n",
        "        self.conv6 = nn.Conv3d(in_channels=64,out_channels=64,kernel_size=(3,3,3),padding=(1,1,1),stride=(1,1,1))\n",
        "        self.fconv = nn.Conv3d(in_channels=64,out_channels=3,kernel_size=(1,1,1),stride=(1,1,1))\n",
        "\n",
        "\n",
        "    def forward(self,x):\n",
        "\n",
        "        z1 = self.conv1(x)\n",
        "        a1 = F.relu(z1)\n",
        "\n",
        "        z2 = self.conv2(a1)\n",
        "        a2 = F.relu(z2)\n",
        "\n",
        "        z3 = self.maxpool1(a2)\n",
        "        z3 = self.conv3(z3)\n",
        "        a3 = F.relu(z3)\n",
        "\n",
        "        z4 = self.conv4(a3)\n",
        "        a4 = F.relu(z4)\n",
        "\n",
        "        z5 = self.upsample1(a4)\n",
        "        a5 = torch.cat([z5,a2],dim=1)\n",
        "\n",
        "        z6 = self.conv5(a5)\n",
        "        a6 = F.relu(z6)\n",
        "\n",
        "        z7 = self.conv6(a6)\n",
        "        a7 = F.relu(z7)\n",
        "\n",
        "        z8 = self.fconv(a7)\n",
        "        a8 = F.logsigmoid(z8)\n",
        "\n",
        "        return a8"
      ],
      "execution_count": null,
      "outputs": []
    },
    {
      "cell_type": "code",
      "metadata": {
        "id": "hMnhwnmptekq",
        "outputId": "a0fc24af-c0e9-4615-ea5c-f0384bdfaa7a",
        "colab": {
          "base_uri": "https://localhost:8080/",
          "height": 217
        }
      },
      "source": [
        "model = Unet3D()\n",
        "model.cuda()"
      ],
      "execution_count": null,
      "outputs": [
        {
          "output_type": "execute_result",
          "data": {
            "text/plain": [
              "Unet3D(\n",
              "  (conv1): Conv3d(4, 32, kernel_size=(3, 3, 3), stride=(1, 1, 1), padding=(1, 1, 1))\n",
              "  (conv2): Conv3d(32, 64, kernel_size=(3, 3, 3), stride=(1, 1, 1), padding=(1, 1, 1))\n",
              "  (maxpool1): MaxPool3d(kernel_size=(2, 2, 2), stride=(2, 2, 2), padding=0, dilation=1, ceil_mode=False)\n",
              "  (conv3): Conv3d(64, 64, kernel_size=(3, 3, 3), stride=(1, 1, 1), padding=(1, 1, 1))\n",
              "  (conv4): Conv3d(64, 128, kernel_size=(3, 3, 3), stride=(1, 1, 1), padding=(1, 1, 1))\n",
              "  (upsample1): Upsample(scale_factor=(2.0, 2.0, 2.0), mode=nearest)\n",
              "  (conv5): Conv3d(192, 64, kernel_size=(3, 3, 3), stride=(1, 1, 1), padding=(1, 1, 1))\n",
              "  (conv6): Conv3d(64, 64, kernel_size=(3, 3, 3), stride=(1, 1, 1), padding=(1, 1, 1))\n",
              "  (fconv): Conv3d(64, 3, kernel_size=(1, 1, 1), stride=(1, 1, 1))\n",
              ")"
            ]
          },
          "metadata": {
            "tags": []
          },
          "execution_count": 8
        }
      ]
    },
    {
      "cell_type": "code",
      "metadata": {
        "id": "OIRfgoMmtekt"
      },
      "source": [
        "def dice_coefficient(y_true,y_pred,axis = (1,2,3),epsilon=(0.00001)):\n",
        "\n",
        "  dice_numerator = 2. * torch.sum(y_true*y_pred,dim = axis)\n",
        "  dice_denominator = torch.sum(y_true, dim = axis) + torch.sum(y_pred, dim = axis) + epsilon\n",
        "  dice_coefficient = torch.mean((dice_numerator)/(dice_denominator))\n",
        "\n",
        "  return dice_coefficient"
      ],
      "execution_count": null,
      "outputs": []
    },
    {
      "cell_type": "code",
      "metadata": {
        "id": "ElnYx2Zxtekw"
      },
      "source": [
        "def soft_dice_loss(y_true, y_pred, axis=(1,2,3),epsilon = 0.00001):\n",
        "\n",
        "  dice_numerator = 2. *torch.sum(y_true * y_pred,dim = axis) + epsilon\n",
        "  dice_denominator = torch.sum(y_true**2,dim = axis) + torch.sum(y_pred**2,dim = axis) + epsilon\n",
        "  dice_loss = 1 - torch.mean((dice_numerator)/(dice_denominator))\n",
        "  \n",
        "  return dice_loss"
      ],
      "execution_count": null,
      "outputs": []
    },
    {
      "cell_type": "code",
      "metadata": {
        "tags": [],
        "id": "-mkl4HKoteky",
        "outputId": "2e6c31ee-e586-4da7-ca40-fcf24b888129",
        "colab": {
          "base_uri": "https://localhost:8080/",
          "height": 72
        }
      },
      "source": [
        "dataiter = iter(trainloader)\n",
        "images,labels = dataiter.next()\n",
        "print(type(images))\n",
        "print(images.shape)\n",
        "print(labels.shape)"
      ],
      "execution_count": null,
      "outputs": [
        {
          "output_type": "stream",
          "text": [
            "<class 'torch.Tensor'>\n",
            "torch.Size([5, 4, 160, 160, 16])\n",
            "torch.Size([5, 3, 160, 160, 16])\n"
          ],
          "name": "stdout"
        }
      ]
    },
    {
      "cell_type": "code",
      "metadata": {
        "id": "UFEukG3Dtek1"
      },
      "source": [
        "optimizer = optim.Adam(model.parameters(),lr = 0.001)"
      ],
      "execution_count": null,
      "outputs": []
    },
    {
      "cell_type": "code",
      "metadata": {
        "id": "TAMP30vWtek3",
        "outputId": "06ae887e-fdc9-4fdd-b8a5-2ff0f997a0db",
        "colab": {
          "base_uri": "https://localhost:8080/",
          "height": 781
        }
      },
      "source": [
        "epochs = 30\n",
        "train_loss_data = []\n",
        "val_loss_data = []\n",
        "train_dice_data = []\n",
        "val_dice_data = []\n",
        "valid_loss_min = np.Inf\n",
        "\n",
        "for epoch in range(epochs):\n",
        "\n",
        "  train_loss = 0.0\n",
        "  val_loss = 0.0\n",
        "  train_dice = 0.0\n",
        "  val_dice = 0.0\n",
        "\n",
        "  model.train()\n",
        "  \n",
        "  for images,labels in trainloader:\n",
        "\n",
        "    images = images.cuda()\n",
        "    labels = labels.cuda()\n",
        "\n",
        "    optimizer.zero_grad()\n",
        "    logps = model(images)\n",
        "    ps = torch.exp(logps)\n",
        "    dice_c = dice_coefficient(labels,ps)\n",
        "    loss = soft_dice_loss(labels,ps)\n",
        "    loss.backward()\n",
        "    optimizer.step()\n",
        "\n",
        "    train_loss += loss.item()*images.size(0)\n",
        "    train_dice += dice_c.item()*images.size(0)\n",
        "\n",
        "\n",
        "  model.eval()\n",
        "  with torch.no_grad():\n",
        "    for images,labels in validloader:\n",
        "\n",
        "      images = images.cuda()\n",
        "      labels = labels.cuda()\n",
        "\n",
        "      logps = model(images)\n",
        "      ps = torch.exp(logps)\n",
        "      dice_c = dice_coefficient(labels,ps)\n",
        "      loss = soft_dice_loss(labels,ps)\n",
        "\n",
        "      val_loss += loss.item()*images.size(0)\n",
        "      val_dice += dice_c.item()*images.size(0)\n",
        "\n",
        "    train_loss = train_loss/len(trainloader.sampler)\n",
        "    val_loss = val_loss/len(validloader.sampler)\n",
        "    train_dice = train_dice/len(trainloader.sampler)\n",
        "    val_dice = val_dice/len(validloader.sampler)\n",
        "\n",
        "    train_loss_data.append(train_loss)\n",
        "    val_loss_data.append(val_loss)\n",
        "    train_dice_data.append(train_dice)\n",
        "    val_dice_data.append(val_dice)\n",
        "\n",
        "  print(\"Epoch : {} training Loss : {:.6f} Validation Loss : {:.6f} Train_dice : {:.6f} Val_dice : {:.6f}\".format(epoch+1,train_loss,val_loss,train_dice,val_dice))\n",
        "\n",
        "  if val_loss <= valid_loss_min:\n",
        "        print('Validation loss decreased ({:.6f} --> {:.6f}).   Saving model ...'.format(valid_loss_min,val_loss))\n",
        "        torch.save(model.state_dict(), 'AutoTumourModel.pt')\n",
        "        valid_loss_min = val_loss"
      ],
      "execution_count": null,
      "outputs": [
        {
          "output_type": "stream",
          "text": [
            "Epoch : 1 training Loss : 0.710074 Validation Loss : 0.597685 Train_dice : 0.200273 Val_dice : 0.257038\n",
            "Validation loss decreased (inf --> 0.597685).   Saving model ...\n",
            "Epoch : 2 training Loss : 0.498701 Validation Loss : 0.522764 Train_dice : 0.379341 Val_dice : 0.369056\n",
            "Validation loss decreased (0.597685 --> 0.522764).   Saving model ...\n",
            "Epoch : 3 training Loss : 0.460226 Validation Loss : 0.466904 Train_dice : 0.412658 Val_dice : 0.357070\n",
            "Validation loss decreased (0.522764 --> 0.466904).   Saving model ...\n",
            "Epoch : 4 training Loss : 0.427202 Validation Loss : 0.442224 Train_dice : 0.440413 Val_dice : 0.475426\n",
            "Validation loss decreased (0.466904 --> 0.442224).   Saving model ...\n",
            "Epoch : 5 training Loss : 0.380385 Validation Loss : 0.366969 Train_dice : 0.484320 Val_dice : 0.552981\n",
            "Validation loss decreased (0.442224 --> 0.366969).   Saving model ...\n",
            "Epoch : 6 training Loss : 0.330397 Validation Loss : 0.433472 Train_dice : 0.576881 Val_dice : 0.509811\n",
            "Epoch : 7 training Loss : 0.344472 Validation Loss : 0.398048 Train_dice : 0.559694 Val_dice : 0.516588\n",
            "Epoch : 8 training Loss : 0.306024 Validation Loss : 0.317739 Train_dice : 0.586222 Val_dice : 0.571917\n",
            "Validation loss decreased (0.366969 --> 0.317739).   Saving model ...\n",
            "Epoch : 9 training Loss : 0.289910 Validation Loss : 0.320515 Train_dice : 0.593906 Val_dice : 0.587572\n",
            "Epoch : 10 training Loss : 0.297554 Validation Loss : 0.331811 Train_dice : 0.591016 Val_dice : 0.559477\n",
            "Epoch : 11 training Loss : 0.279072 Validation Loss : 0.305300 Train_dice : 0.610652 Val_dice : 0.595884\n",
            "Validation loss decreased (0.317739 --> 0.305300).   Saving model ...\n",
            "Epoch : 12 training Loss : 0.278842 Validation Loss : 0.296308 Train_dice : 0.597388 Val_dice : 0.576470\n",
            "Validation loss decreased (0.305300 --> 0.296308).   Saving model ...\n",
            "Epoch : 13 training Loss : 0.286394 Validation Loss : 0.331299 Train_dice : 0.601305 Val_dice : 0.588930\n",
            "Epoch : 14 training Loss : 0.290816 Validation Loss : 0.330738 Train_dice : 0.588020 Val_dice : 0.574162\n",
            "Epoch : 15 training Loss : 0.312293 Validation Loss : 0.317990 Train_dice : 0.575844 Val_dice : 0.560193\n",
            "Epoch : 16 training Loss : 0.290609 Validation Loss : 0.294847 Train_dice : 0.588134 Val_dice : 0.570269\n",
            "Validation loss decreased (0.296308 --> 0.294847).   Saving model ...\n",
            "Epoch : 17 training Loss : 0.281619 Validation Loss : 0.320466 Train_dice : 0.593413 Val_dice : 0.580411\n",
            "Epoch : 18 training Loss : 0.266579 Validation Loss : 0.319877 Train_dice : 0.626718 Val_dice : 0.574990\n",
            "Epoch : 19 training Loss : 0.273986 Validation Loss : 0.346845 Train_dice : 0.602516 Val_dice : 0.570477\n",
            "Epoch : 20 training Loss : 0.266399 Validation Loss : 0.299587 Train_dice : 0.627694 Val_dice : 0.576460\n",
            "Epoch : 21 training Loss : 0.262575 Validation Loss : 0.284507 Train_dice : 0.617293 Val_dice : 0.580879\n",
            "Validation loss decreased (0.294847 --> 0.284507).   Saving model ...\n",
            "Epoch : 22 training Loss : 0.261488 Validation Loss : 0.290882 Train_dice : 0.608821 Val_dice : 0.593996\n",
            "Epoch : 23 training Loss : 0.266928 Validation Loss : 0.320479 Train_dice : 0.625556 Val_dice : 0.587720\n",
            "Epoch : 24 training Loss : 0.264368 Validation Loss : 0.290339 Train_dice : 0.621164 Val_dice : 0.595748\n",
            "Epoch : 25 training Loss : 0.251159 Validation Loss : 0.283497 Train_dice : 0.629489 Val_dice : 0.609002\n",
            "Validation loss decreased (0.284507 --> 0.283497).   Saving model ...\n",
            "Epoch : 26 training Loss : 0.252140 Validation Loss : 0.294427 Train_dice : 0.627977 Val_dice : 0.601895\n",
            "Epoch : 27 training Loss : 0.245419 Validation Loss : 0.323260 Train_dice : 0.630138 Val_dice : 0.580139\n",
            "Epoch : 28 training Loss : 0.246921 Validation Loss : 0.296014 Train_dice : 0.637362 Val_dice : 0.600468\n",
            "Epoch : 29 training Loss : 0.259602 Validation Loss : 0.301561 Train_dice : 0.621874 Val_dice : 0.578644\n",
            "Epoch : 30 training Loss : 0.237785 Validation Loss : 0.277479 Train_dice : 0.638958 Val_dice : 0.609951\n",
            "Validation loss decreased (0.283497 --> 0.277479).   Saving model ...\n"
          ],
          "name": "stdout"
        }
      ]
    },
    {
      "cell_type": "code",
      "metadata": {
        "id": "k2GPvc4rkE4M"
      },
      "source": [
        "y_test = model2(torch.unsqueeze(X[32],0))\n",
        "y_test = torch.exp(y_test)"
      ],
      "execution_count": null,
      "outputs": []
    },
    {
      "cell_type": "code",
      "metadata": {
        "id": "STPDHvkxkLAr"
      },
      "source": [
        "y_test = torch.squeeze(y_test,0)\n",
        "y_test = y_test.cpu().detach().numpy()"
      ],
      "execution_count": null,
      "outputs": []
    },
    {
      "cell_type": "code",
      "metadata": {
        "id": "mX0-x63skUqT",
        "outputId": "ecd33101-cfe4-4f7a-fbdd-23f67bc1c65c",
        "colab": {
          "base_uri": "https://localhost:8080/",
          "height": 35
        }
      },
      "source": [
        "y_actual = y[32]\n",
        "y_actual = y_actual.numpy()\n",
        "y_actual.shape"
      ],
      "execution_count": null,
      "outputs": [
        {
          "output_type": "execute_result",
          "data": {
            "text/plain": [
              "(3, 160, 160, 16)"
            ]
          },
          "metadata": {
            "tags": []
          },
          "execution_count": 12
        }
      ]
    },
    {
      "cell_type": "code",
      "metadata": {
        "id": "j8dFy22qtlDP",
        "outputId": "189e6c9a-266c-4efd-8093-90ac22f1526f",
        "colab": {
          "base_uri": "https://localhost:8080/",
          "height": 287
        }
      },
      "source": [
        "plt.imshow(X[32][0,:,:,12],cmap = 'gray')"
      ],
      "execution_count": null,
      "outputs": [
        {
          "output_type": "execute_result",
          "data": {
            "text/plain": [
              "<matplotlib.image.AxesImage at 0x7fbd364b6a58>"
            ]
          },
          "metadata": {
            "tags": []
          },
          "execution_count": 13
        },
        {
          "output_type": "display_data",
          "data": {
            "image/png": "[encoded data removed]",
            "text/plain": [
              "<Figure size 432x288 with 1 Axes>"
            ]
          },
          "metadata": {
            "tags": [],
            "needs_background": "light"
          }
        }
      ]
    },
    {
      "cell_type": "code",
      "metadata": {
        "id": "Ep-f8rYlku3D",
        "outputId": "fb59c3d1-b0ae-499d-80a0-f374f58560bd",
        "colab": {
          "base_uri": "https://localhost:8080/",
          "height": 287
        }
      },
      "source": [
        "plt.imshow(y_actual[1,:,:,12],cmap = 'gray')"
      ],
      "execution_count": null,
      "outputs": [
        {
          "output_type": "execute_result",
          "data": {
            "text/plain": [
              "<matplotlib.image.AxesImage at 0x7fbd361d85c0>"
            ]
          },
          "metadata": {
            "tags": []
          },
          "execution_count": 14
        },
        {
          "output_type": "display_data",
          "data": {
            "image/png": "[encoded data removed]",
            "text/plain": [
              "<Figure size 432x288 with 1 Axes>"
            ]
          },
          "metadata": {
            "tags": [],
            "needs_background": "light"
          }
        }
      ]
    },
    {
      "cell_type": "code",
      "metadata": {
        "id": "xPiNedKOtHde"
      },
      "source": [
        "y_test[y_test > 0.5] = 1\n",
        "y_test[y_test <= 0.5] = 0"
      ],
      "execution_count": null,
      "outputs": []
    },
    {
      "cell_type": "code",
      "metadata": {
        "id": "2RbPoUsRk1A4",
        "outputId": "71ba5ad7-f036-4fad-8af2-ff114c82df64",
        "colab": {
          "base_uri": "https://localhost:8080/",
          "height": 287
        }
      },
      "source": [
        "plt.imshow(y_test[1,:,:,12],cmap = 'gray')"
      ],
      "execution_count": null,
      "outputs": [
        {
          "output_type": "execute_result",
          "data": {
            "text/plain": [
              "<matplotlib.image.AxesImage at 0x7fbd361c2eb8>"
            ]
          },
          "metadata": {
            "tags": []
          },
          "execution_count": 16
        },
        {
          "output_type": "display_data",
          "data": {
            "image/png": "[encoded data removed]",
            "text/plain": [
              "<Figure size 432x288 with 1 Axes>"
            ]
          },
          "metadata": {
            "tags": [],
            "needs_background": "light"
          }
        }
      ]
    }
  ]
}