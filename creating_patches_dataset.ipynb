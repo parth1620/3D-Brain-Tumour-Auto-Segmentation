{
  "nbformat": 4,
  "nbformat_minor": 0,
  "metadata": {
    "kernelspec": {
      "display_name": "Python 3.8.2 64-bit",
      "language": "python",
      "name": "python38264bitd7e1741f5a374a578bbcddb907a293a7"
    },
    "language_info": {
      "codemirror_mode": {
        "name": "ipython",
        "version": 3
      },
      "file_extension": ".py",
      "mimetype": "text/x-python",
      "name": "python",
      "nbconvert_exporter": "python",
      "pygments_lexer": "ipython3",
      "version": "3.8.2-final"
    },
    "colab": {
      "name": "Untitled3.ipynb",
      "provenance": [],
      "collapsed_sections": []
    },
    "accelerator": "GPU"
  },
  "cells": [
    {
      "cell_type": "code",
      "metadata": {
        "id": "T62lQf0BmpNj"
      },
      "source": [
        "import numpy as np\n",
        "import nibabel as nib\n",
        "import cv2\n",
        "import matplotlib.pyplot as plt \n",
        "import pandas as pd\n",
        "from keras.utils import to_categorical\n",
        "import torch \n",
        "from torch import optim,nn \n",
        "import torch.nn.functional as F\n",
        "from torchvision import datasets,transforms as T\n",
        "from torch.utils.data import DataLoader,TensorDataset\n",
        "from torch.utils.data.sampler import SubsetRandomSampler"
      ],
      "execution_count": null,
      "outputs": []
    },
    {
      "cell_type": "code",
      "metadata": {
        "id": "oOTf2BvwmpNn"
      },
      "source": [
        "HOME_DIR = 'Task01_BrainTumour/'\n",
        "DATA_DIR = HOME_DIR\n",
        "\n",
        "def load_case(image_nifty_file, label_nifty_file):\n",
        "    \n",
        "    image = np.array(nib.load(image_nifty_file).get_fdata())\n",
        "    label = np.array(nib.load(label_nifty_file).get_fdata())\n",
        "    \n",
        "    return image,label"
      ],
      "execution_count": null,
      "outputs": []
    },
    {
      "cell_type": "code",
      "metadata": {
        "id": "R7eL7oalmpNr"
      },
      "source": [
        "def get_labeled_image(image, label,is_categorical = False):\n",
        "    if not is_categorical:\n",
        "        label = to_categorical(label, num_classes = 4).astype(np.uint8)\n",
        "        \n",
        "    image = cv2.normalize(image[:,:,:,0], None, alpha = 0,beta = 255, norm_type = cv2.NORM_MINMAX,dtype = cv2.CV_32F)\n",
        "    \n",
        "    labeled_image = np.zeros_like(label[:,:,:,1:])\n",
        "    labeled_image[:,:,:,0] = image * (label[:,:,:,0])\n",
        "    labeled_image[:,:,:,1] = image * (label[:,:,:,0])\n",
        "    labeled_image[:,:,:,2] = image * (label[:,:,:,0])\n",
        "    \n",
        "    labeled_image = labeled_image + label[:,:,:,1:]*255\n",
        "    \n",
        "    return labeled_image"
      ],
      "execution_count": null,
      "outputs": []
    },
    {
      "cell_type": "code",
      "metadata": {
        "id": "MAqEbWoTmpNu",
        "outputId": "ed2c8682-285b-47b6-d041-207df55aeed6",
        "colab": {
          "base_uri": "https://localhost:8080/",
          "height": 287
        }
      },
      "source": [
        "image,label = load_case(DATA_DIR + \"imagesTr/BRATS_001.nii.gz\", DATA_DIR + \"labelsTr/BRATS_001.nii.gz\")\n",
        "image = get_labeled_image(image,label)\n",
        "\n",
        "plt.imshow(image[:,:,77])"
      ],
      "execution_count": null,
      "outputs": []
    },
    {
      "cell_type": "code",
      "metadata": {
        "id": "VpuokqBLmpNx"
      },
      "source": [
        "def get_sub_volume(image,label,orig_x = 240,orig_y = 240,orig_z = 155,\n",
        "                  output_x = 160, output_y = 160, output_z = 16,num_classes = 4,max_tries = 1000,background_threshold= 0.95):\n",
        "    \n",
        "    X = None\n",
        "    y = None\n",
        "    \n",
        "    tries = 0\n",
        "    \n",
        "    while tries < max_tries:\n",
        "        \n",
        "        start_x = np.random.randint(0,orig_x-output_x+1)\n",
        "        start_y = np.random.randint(0,orig_y-output_y+1)\n",
        "        start_z = np.random.randint(0,orig_z-output_z+1)\n",
        "        \n",
        "        y = label[start_x: start_x + output_x,\n",
        "                  start_y: start_y + output_y,\n",
        "                  start_z: start_z + output_z]\n",
        "        \n",
        "        y = to_categorical(y,num_classes)\n",
        "        \n",
        "        bgrd_ratio = np.sum(y[:,:,:,0])/(output_x*output_y*output_z)\n",
        "        \n",
        "        tries +=1\n",
        "        \n",
        "        if bgrd_ratio < background_threshold:\n",
        "            \n",
        "            X = np.copy(image[start_x: start_x + output_x,\n",
        "                              start_y: start_y + output_y,\n",
        "                              start_z: start_z + output_z, :])\n",
        "            X = np.moveaxis(X,3,0)\n",
        "            y = np.moveaxis(y,3,0)\n",
        "            y = y[1:, :, :, :]\n",
        "            \n",
        "            return X,y\n",
        "        \n",
        "    print(f\"Tried {tries} times to find a sub-volume. Giving up...\")"
      ],
      "execution_count": null,
      "outputs": []
    },
    {
      "cell_type": "code",
      "metadata": {
        "id": "XjSDIDWwmpN0"
      },
      "source": [
        "def standardize(image):\n",
        "    \n",
        "    standardized_image = np.zeros(image.shape)\n",
        "    \n",
        "    for c in range(image.shape[0]):\n",
        "        for z in range(image.shape[3]):\n",
        "            \n",
        "            image_slice = image[c,:,:,z]\n",
        "            centered = image_slice - np.mean(image_slice)\n",
        "            \n",
        "            if np.std(centered) != 0:\n",
        "                centered_scaled = centered/np.std(centered)\n",
        "                \n",
        "                standardized_image[c,:,:,z] = centered_scaled\n",
        "                \n",
        "    return standardized_image"
      ],
      "execution_count": null,
      "outputs": []
    },
    {
      "cell_type": "code",
      "metadata": {
        "id": "2wKBC1YgmpN-"
      },
      "source": [
        "def create_dataset(DATA_DIR,num_patches = 85):\n",
        "\n",
        "    random_select = np.random.randint(low = 1, high=480, size=num_patches)\n",
        "    image_data = []\n",
        "    label_data = []\n",
        "\n",
        "\n",
        "    for i in random_select:\n",
        "        \n",
        "        if i < 10:\n",
        "            i = \"00\"+str(i)+\".nii.gz\"\n",
        "        elif i>=10 and i<100:\n",
        "            i = \"0\"+str(i)+\".nii.gz\"\n",
        "        elif i>=100:\n",
        "            i = str(i)+\".nii.gz\"\n",
        "        \n",
        "        image,label = load_case(DATA_DIR + \"imagesTr/BRATS_\"+i,DATA_DIR + \"labelsTr/BRATS_\"+i)\n",
        "       \n",
        "        try: \n",
        "            X,y = get_sub_volume(image,label)\n",
        "            X = standardize(X)\n",
        "            image_data.append(X)\n",
        "            label_data.append(y)\n",
        "        except:\n",
        "            continue\n",
        "\n",
        "    return image_data,label_data\n",
        "    "
      ],
      "execution_count": null,
      "outputs": []
    },
    {
      "cell_type": "code",
      "metadata": {
        "tags": [],
        "id": "n3UkmzdUmpOB",
        "outputId": "32a06687-482f-487e-d5e0-6616885d2349",
        "colab": {
          "base_uri": "https://localhost:8080/",
          "height": 545
        }
      },
      "source": [
        "image_data,label_data = create_dataset(DATA_DIR,num_patches = 150)"
      ],
      "execution_count": null,
      "outputs": []
    },
    {
      "cell_type": "code",
      "metadata": {
        "id": "wL5u5fls9a2h"
      },
      "source": [
        "images_data = torch.FloatTensor(image_data)\n",
        "label_data = torch.FloatTensor(label_data)"
      ],
      "execution_count": null,
      "outputs": []
    },
    {
      "cell_type": "code",
      "execution_count": null,
      "metadata": {},
      "outputs": [],
      "source": [
        "image_data = torch.transpose(image_data,4,2)\n",
        "label_data = torch.transpose(label_data,4,2)"
      ]
    },
    {
      "cell_type": "code",
      "execution_count": null,
      "metadata": {},
      "outputs": [],
      "source": [
        "torch.save(images_data,'X.pt')\n",
        "torch.save(label_data,'y.pt')"
      ]
    }
  ]
}